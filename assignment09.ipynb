{
 "cells": [
  {
   "cell_type": "code",
   "execution_count": 2,
   "id": "3ec595a7-4810-4005-b55b-17681b9a1565",
   "metadata": {},
   "outputs": [],
   "source": [
    "#ANS NO1=\n",
    "#An excception is an event ,which occurs during the execution of a program that disrupts the normal flow flow of the program instructions \n",
    "#in general ,when pythopn script encounters a situation that cannot cope with ,it raises an exceptions .an exceptin is an python object \n",
    "#that reprasents an error."
   ]
  },
  {
   "cell_type": "code",
   "execution_count": 4,
   "id": "df6ea21a-9611-4987-9f1d-63e1eec2c019",
   "metadata": {},
   "outputs": [],
   "source": [
    "#ANS NO 2=\n",
    "# when exceptions is not handled then at that point where python program show error in execution of program after this point \n",
    "#not any further program is run ."
   ]
  },
  {
   "cell_type": "code",
   "execution_count": 5,
   "id": "8d7799e3-0a3d-42c9-8429-91ba7e6b32be",
   "metadata": {},
   "outputs": [],
   "source": [
    "#EXAMPLE="
   ]
  },
  {
   "cell_type": "code",
   "execution_count": 6,
   "id": "05399e68-cb56-4293-b8b3-030e5ed2406e",
   "metadata": {},
   "outputs": [
    {
     "ename": "FileNotFoundError",
     "evalue": "[Errno 2] No such file or directory: 'test.txt'",
     "output_type": "error",
     "traceback": [
      "\u001b[0;31m---------------------------------------------------------------------------\u001b[0m",
      "\u001b[0;31mFileNotFoundError\u001b[0m                         Traceback (most recent call last)",
      "Cell \u001b[0;32mIn[6], line 1\u001b[0m\n\u001b[0;32m----> 1\u001b[0m f\u001b[38;5;241m=\u001b[39m\u001b[38;5;28;43mopen\u001b[39;49m\u001b[43m(\u001b[49m\u001b[38;5;124;43m\"\u001b[39;49m\u001b[38;5;124;43mtest.txt\u001b[39;49m\u001b[38;5;124;43m\"\u001b[39;49m\u001b[43m,\u001b[49m\u001b[38;5;124;43m'\u001b[39;49m\u001b[38;5;124;43mr\u001b[39;49m\u001b[38;5;124;43m'\u001b[39;49m\u001b[43m)\u001b[49m\n\u001b[1;32m      2\u001b[0m \u001b[38;5;28mprint\u001b[39m(\u001b[38;5;124m\"\u001b[39m\u001b[38;5;124mthis is my question no2\u001b[39m\u001b[38;5;124m\"\u001b[39m)\n",
      "File \u001b[0;32m/opt/conda/lib/python3.10/site-packages/IPython/core/interactiveshell.py:282\u001b[0m, in \u001b[0;36m_modified_open\u001b[0;34m(file, *args, **kwargs)\u001b[0m\n\u001b[1;32m    275\u001b[0m \u001b[38;5;28;01mif\u001b[39;00m file \u001b[38;5;129;01min\u001b[39;00m {\u001b[38;5;241m0\u001b[39m, \u001b[38;5;241m1\u001b[39m, \u001b[38;5;241m2\u001b[39m}:\n\u001b[1;32m    276\u001b[0m     \u001b[38;5;28;01mraise\u001b[39;00m \u001b[38;5;167;01mValueError\u001b[39;00m(\n\u001b[1;32m    277\u001b[0m         \u001b[38;5;124mf\u001b[39m\u001b[38;5;124m\"\u001b[39m\u001b[38;5;124mIPython won\u001b[39m\u001b[38;5;124m'\u001b[39m\u001b[38;5;124mt let you open fd=\u001b[39m\u001b[38;5;132;01m{\u001b[39;00mfile\u001b[38;5;132;01m}\u001b[39;00m\u001b[38;5;124m by default \u001b[39m\u001b[38;5;124m\"\u001b[39m\n\u001b[1;32m    278\u001b[0m         \u001b[38;5;124m\"\u001b[39m\u001b[38;5;124mas it is likely to crash IPython. If you know what you are doing, \u001b[39m\u001b[38;5;124m\"\u001b[39m\n\u001b[1;32m    279\u001b[0m         \u001b[38;5;124m\"\u001b[39m\u001b[38;5;124myou can use builtins\u001b[39m\u001b[38;5;124m'\u001b[39m\u001b[38;5;124m open.\u001b[39m\u001b[38;5;124m\"\u001b[39m\n\u001b[1;32m    280\u001b[0m     )\n\u001b[0;32m--> 282\u001b[0m \u001b[38;5;28;01mreturn\u001b[39;00m \u001b[43mio_open\u001b[49m\u001b[43m(\u001b[49m\u001b[43mfile\u001b[49m\u001b[43m,\u001b[49m\u001b[43m \u001b[49m\u001b[38;5;241;43m*\u001b[39;49m\u001b[43margs\u001b[49m\u001b[43m,\u001b[49m\u001b[43m \u001b[49m\u001b[38;5;241;43m*\u001b[39;49m\u001b[38;5;241;43m*\u001b[39;49m\u001b[43mkwargs\u001b[49m\u001b[43m)\u001b[49m\n",
      "\u001b[0;31mFileNotFoundError\u001b[0m: [Errno 2] No such file or directory: 'test.txt'"
     ]
    }
   ],
   "source": [
    "f=open(\"test.txt\",'r')\n",
    "print(\"this is my question no2\")"
   ]
  },
  {
   "cell_type": "code",
   "execution_count": 7,
   "id": "ca937e77-9338-4b56-9a95-43a94fa8b750",
   "metadata": {},
   "outputs": [],
   "source": [
    "#we clearly see in obove example if f is show error then print also not run"
   ]
  },
  {
   "cell_type": "code",
   "execution_count": 9,
   "id": "81bb41b1-84f4-4f24-b71f-002d446beb73",
   "metadata": {},
   "outputs": [],
   "source": [
    "#ANS 3=\n",
    "#THE try and except block in python is used to catch and handle exceptions .python executes code following the try statments as \"normal\"\n",
    "#part of the program .the code that follows the except statments is the programs response to any exceptions in the preceding try clause ."
   ]
  },
  {
   "cell_type": "code",
   "execution_count": 10,
   "id": "f1e4039b-9cee-419f-b33a-24979ad59d73",
   "metadata": {},
   "outputs": [],
   "source": [
    "#ans n04="
   ]
  },
  {
   "cell_type": "code",
   "execution_count": 11,
   "id": "1e6837f3-d428-4d35-b8a7-2451c8e0ee9c",
   "metadata": {},
   "outputs": [],
   "source": [
    "#try and else:\n",
    "#if code inside try block  run smothly then code inside else block executed ."
   ]
  },
  {
   "cell_type": "code",
   "execution_count": 12,
   "id": "20c0e9a4-18ae-468b-82ac-74a9e69998c8",
   "metadata": {},
   "outputs": [],
   "source": [
    "#example="
   ]
  },
  {
   "cell_type": "code",
   "execution_count": 14,
   "id": "a8d0211b-69b2-42cd-a0f4-9dcee3fcdf8d",
   "metadata": {},
   "outputs": [
    {
     "name": "stdout",
     "output_type": "stream",
     "text": [
      "this is my else block\n"
     ]
    }
   ],
   "source": [
    "try:\n",
    "    f=open(\"test1.txt\",'w')\n",
    "    f.write(\"this is a example for questin no 4\")\n",
    "    f.close()\n",
    "except Exceptions as e:\n",
    "    print(e)\n",
    "else:\n",
    "    print(\"this is my else block\")"
   ]
  },
  {
   "cell_type": "code",
   "execution_count": 15,
   "id": "cf45e370-54d3-482c-92dc-f9739dce7a40",
   "metadata": {},
   "outputs": [],
   "source": [
    "#we clearly see in obove example if code inside try block is run without error then code inside else block is run>"
   ]
  },
  {
   "cell_type": "code",
   "execution_count": 16,
   "id": "ae3aa3b2-ad26-45e8-bd48-fbf2173b004c",
   "metadata": {},
   "outputs": [],
   "source": [
    "#Finally:\n",
    "#in every satuation code either code inside try block run without error or show error code inside finally block run in both case."
   ]
  },
  {
   "cell_type": "code",
   "execution_count": 17,
   "id": "afa7c5af-3f55-4d84-b980-0e97f3c965ce",
   "metadata": {},
   "outputs": [],
   "source": [
    "#EXAMPLE="
   ]
  },
  {
   "cell_type": "code",
   "execution_count": 19,
   "id": "b6b8a509-625c-4c02-b820-369a23484935",
   "metadata": {},
   "outputs": [
    {
     "name": "stdout",
     "output_type": "stream",
     "text": [
      "this is my finally block\n"
     ]
    }
   ],
   "source": [
    "try:\n",
    "    f=open(\"test1.txt\",'w')\n",
    "    f.write(\"this is a example for questin no 4\")\n",
    "    f.close()\n",
    "    #in this case code inside try block run without error\n",
    "except Exceptions as e:\n",
    "    print(e)\n",
    "finally:\n",
    "    print(\"this is my finally block\")"
   ]
  },
  {
   "cell_type": "code",
   "execution_count": 21,
   "id": "9b88c9d6-f13f-439b-a32d-8d6d6c6eb588",
   "metadata": {},
   "outputs": [
    {
     "name": "stdout",
     "output_type": "stream",
     "text": [
      "this is my finally block\n"
     ]
    },
    {
     "ename": "FileNotFoundError",
     "evalue": "[Errno 2] No such file or directory: 'test2.txt'",
     "output_type": "error",
     "traceback": [
      "\u001b[0;31m---------------------------------------------------------------------------\u001b[0m",
      "\u001b[0;31mFileNotFoundError\u001b[0m                         Traceback (most recent call last)",
      "Cell \u001b[0;32mIn[21], line 2\u001b[0m\n\u001b[1;32m      1\u001b[0m \u001b[38;5;28;01mtry\u001b[39;00m :\n\u001b[0;32m----> 2\u001b[0m     f\u001b[38;5;241m=\u001b[39m\u001b[38;5;28;43mopen\u001b[39;49m\u001b[43m(\u001b[49m\u001b[38;5;124;43m\"\u001b[39;49m\u001b[38;5;124;43mtest2.txt\u001b[39;49m\u001b[38;5;124;43m\"\u001b[39;49m\u001b[43m,\u001b[49m\u001b[38;5;124;43m'\u001b[39;49m\u001b[38;5;124;43mr\u001b[39;49m\u001b[38;5;124;43m'\u001b[39;49m\u001b[43m)\u001b[49m\n\u001b[1;32m      3\u001b[0m     \u001b[38;5;66;03m#in this case code inside try block show error in execution .\u001b[39;00m\n\u001b[1;32m      4\u001b[0m \u001b[38;5;28;01mfinally\u001b[39;00m:\n\u001b[1;32m      5\u001b[0m     \u001b[38;5;28mprint\u001b[39m(\u001b[38;5;124m\"\u001b[39m\u001b[38;5;124mthis is my finally block\u001b[39m\u001b[38;5;124m\"\u001b[39m)\n",
      "File \u001b[0;32m/opt/conda/lib/python3.10/site-packages/IPython/core/interactiveshell.py:282\u001b[0m, in \u001b[0;36m_modified_open\u001b[0;34m(file, *args, **kwargs)\u001b[0m\n\u001b[1;32m    275\u001b[0m \u001b[38;5;28;01mif\u001b[39;00m file \u001b[38;5;129;01min\u001b[39;00m {\u001b[38;5;241m0\u001b[39m, \u001b[38;5;241m1\u001b[39m, \u001b[38;5;241m2\u001b[39m}:\n\u001b[1;32m    276\u001b[0m     \u001b[38;5;28;01mraise\u001b[39;00m \u001b[38;5;167;01mValueError\u001b[39;00m(\n\u001b[1;32m    277\u001b[0m         \u001b[38;5;124mf\u001b[39m\u001b[38;5;124m\"\u001b[39m\u001b[38;5;124mIPython won\u001b[39m\u001b[38;5;124m'\u001b[39m\u001b[38;5;124mt let you open fd=\u001b[39m\u001b[38;5;132;01m{\u001b[39;00mfile\u001b[38;5;132;01m}\u001b[39;00m\u001b[38;5;124m by default \u001b[39m\u001b[38;5;124m\"\u001b[39m\n\u001b[1;32m    278\u001b[0m         \u001b[38;5;124m\"\u001b[39m\u001b[38;5;124mas it is likely to crash IPython. If you know what you are doing, \u001b[39m\u001b[38;5;124m\"\u001b[39m\n\u001b[1;32m    279\u001b[0m         \u001b[38;5;124m\"\u001b[39m\u001b[38;5;124myou can use builtins\u001b[39m\u001b[38;5;124m'\u001b[39m\u001b[38;5;124m open.\u001b[39m\u001b[38;5;124m\"\u001b[39m\n\u001b[1;32m    280\u001b[0m     )\n\u001b[0;32m--> 282\u001b[0m \u001b[38;5;28;01mreturn\u001b[39;00m \u001b[43mio_open\u001b[49m\u001b[43m(\u001b[49m\u001b[43mfile\u001b[49m\u001b[43m,\u001b[49m\u001b[43m \u001b[49m\u001b[38;5;241;43m*\u001b[39;49m\u001b[43margs\u001b[49m\u001b[43m,\u001b[49m\u001b[43m \u001b[49m\u001b[38;5;241;43m*\u001b[39;49m\u001b[38;5;241;43m*\u001b[39;49m\u001b[43mkwargs\u001b[49m\u001b[43m)\u001b[49m\n",
      "\u001b[0;31mFileNotFoundError\u001b[0m: [Errno 2] No such file or directory: 'test2.txt'"
     ]
    }
   ],
   "source": [
    "try :\n",
    "    f=open(\"test2.txt\",'r')\n",
    "    #in this case code inside try block show error in execution .\n",
    "finally:\n",
    "    print(\"this is my finally block\")"
   ]
  },
  {
   "cell_type": "code",
   "execution_count": 22,
   "id": "64fe8aaa-4f0a-4bde-a029-7f04e618ecec",
   "metadata": {},
   "outputs": [],
   "source": [
    "#raise:\n",
    "#it is keyword is useed to raise an exception .we can define what kind of error to raise ,and the text to print to the user ,\n"
   ]
  },
  {
   "cell_type": "code",
   "execution_count": 25,
   "id": "f525f539-6202-4695-bb01-f7126e7cd360",
   "metadata": {},
   "outputs": [],
   "source": [
    "#Ans 5=\n",
    "#like standard exceptions classes custom exceptions are also classes .hence we can add functionality to the custom exception classes like:\n",
    "# adding attributes and propertise .adding method example .,log the exception ,formate the output ,etc."
   ]
  },
  {
   "cell_type": "code",
   "execution_count": 24,
   "id": "6a6d5d16-cd1a-4101-9432-248cdd8299f2",
   "metadata": {},
   "outputs": [],
   "source": [
    "#some time some values enter by user is  not error for the system or computer but for practicaly this values are impossible .\n",
    "#for example age of human for system positive ,negative and high values are not error  but we know  age of human can not be negative and not \n",
    "#not more than 200 years so like this cases custom exceptions are required."
   ]
  },
  {
   "cell_type": "code",
   "execution_count": 26,
   "id": "836c519f-3a70-49c1-9ca5-cde059fe36b7",
   "metadata": {},
   "outputs": [],
   "source": [
    "#ANS NO 6=\n",
    "#CUSTOM EXCEPTION CLASS SHOWN BELOW"
   ]
  },
  {
   "cell_type": "code",
   "execution_count": 30,
   "id": "ca5d1fab-bd5e-48a1-9519-c41d5e077245",
   "metadata": {},
   "outputs": [],
   "source": [
    "class validamt(Exception):\n",
    "    \n",
    "    def __init__(self,msg):\n",
    "        self.msg=msg"
   ]
  },
  {
   "cell_type": "code",
   "execution_count": 31,
   "id": "6d466759-86a8-48ab-87b8-68fcc2fccaa7",
   "metadata": {},
   "outputs": [],
   "source": [
    "def validamt(amount):\n",
    "    if amount<0:\n",
    "        raise validamt(\"entered amount is negative\")\n",
    "    else :\n",
    "        print(\"amount is valid\")"
   ]
  },
  {
   "cell_type": "code",
   "execution_count": 35,
   "id": "c778ef02-55f2-4749-ab81-276056779e34",
   "metadata": {},
   "outputs": [
    {
     "name": "stdin",
     "output_type": "stream",
     "text": [
      "enter your amount 34\n"
     ]
    },
    {
     "name": "stdout",
     "output_type": "stream",
     "text": [
      "amount is valid\n"
     ]
    }
   ],
   "source": [
    "try :\n",
    "    amount=int(input(\"enter your amount\"))\n",
    "    validamt(amount)\n",
    "    \n",
    "except validamt as e:\n",
    "    print(e)"
   ]
  },
  {
   "cell_type": "code",
   "execution_count": null,
   "id": "74b32eba-512d-4b82-a1bf-fc017ff109a5",
   "metadata": {},
   "outputs": [],
   "source": []
  }
 ],
 "metadata": {
  "kernelspec": {
   "display_name": "Python 3 (ipykernel)",
   "language": "python",
   "name": "python3"
  },
  "language_info": {
   "codemirror_mode": {
    "name": "ipython",
    "version": 3
   },
   "file_extension": ".py",
   "mimetype": "text/x-python",
   "name": "python",
   "nbconvert_exporter": "python",
   "pygments_lexer": "ipython3",
   "version": "3.10.8"
  }
 },
 "nbformat": 4,
 "nbformat_minor": 5
}
